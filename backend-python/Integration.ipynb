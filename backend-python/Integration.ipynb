{
 "cells": [
  {
   "cell_type": "code",
   "execution_count": null,
   "id": "d4967eff",
   "metadata": {
    "pycharm": {
     "name": "#%%\n"
    },
    "scrolled": false
   },
   "outputs": [
    {
     "name": "stdout",
     "output_type": "stream",
     "text": [
      " * Serving Flask app \"__main__\" (lazy loading)\n",
      " * Environment: production\n",
      "\u001b[31m   WARNING: This is a development server. Do not use it in a production deployment.\u001b[0m\n",
      "\u001b[2m   Use a production WSGI server instead.\u001b[0m\n",
      " * Debug mode: off\n"
     ]
    },
    {
     "name": "stderr",
     "output_type": "stream",
     "text": [
      " * Running on http://127.0.0.1:5000/ (Press CTRL+C to quit)\n",
      "127.0.0.1 - - [14/Apr/2022 23:47:34] \"\u001b[37mOPTIONS /get_prediction HTTP/1.1\u001b[0m\" 200 -\n"
     ]
    },
    {
     "name": "stdout",
     "output_type": "stream",
     "text": [
      "[2960572721, 2960554732]\n",
      "Predict with doc_id\n"
     ]
    },
    {
     "name": "stderr",
     "output_type": "stream",
     "text": [
      "127.0.0.1 - - [14/Apr/2022 23:47:37] \"\u001b[37mPOST /get_prediction HTTP/1.1\u001b[0m\" 200 -\n",
      "127.0.0.1 - - [14/Apr/2022 23:47:37] \"\u001b[37mOPTIONS / HTTP/1.1\u001b[0m\" 200 -\n",
      "127.0.0.1 - - [14/Apr/2022 23:47:37] \"\u001b[37mPOST / HTTP/1.1\u001b[0m\" 200 -\n",
      "127.0.0.1 - - [14/Apr/2022 23:47:37] \"\u001b[37mPOST / HTTP/1.1\u001b[0m\" 200 -\n"
     ]
    },
    {
     "name": "stdout",
     "output_type": "stream",
     "text": [
      "{'business_code': 'CA02', 'cust_number': 140105686, 'name_customer': 'SING co', 'clear_date': '', 'buisness_year': 2019, 'doc_id': '2960572721', 'posting_date': '2019-08-12', 'due_in_date': '2019-08-23', 'baseline_create_date': '2019-08-13', 'cust_payment_terms': 'CA10', 'converted_usd': 20168.574999999997}\n",
      "Predict\n",
      "{'business_code': 'CA02', 'cust_number': 140105686, 'name_customer': 'SING co', 'clear_date': '', 'buisness_year': 2019, 'doc_id': '2960554732', 'posting_date': '2019-06-13', 'due_in_date': '2019-06-29', 'baseline_create_date': '2019-06-19', 'cust_payment_terms': 'CA10', 'converted_usd': 51298.41499999999}\n",
      "Predict\n"
     ]
    },
    {
     "name": "stderr",
     "output_type": "stream",
     "text": [
      "127.0.0.1 - - [14/Apr/2022 23:49:38] \"\u001b[37mOPTIONS /get_prediction HTTP/1.1\u001b[0m\" 200 -\n"
     ]
    },
    {
     "name": "stdout",
     "output_type": "stream",
     "text": [
      "[2960572721, 2960554732]\n",
      "Predict with doc_id\n"
     ]
    },
    {
     "name": "stderr",
     "output_type": "stream",
     "text": [
      "127.0.0.1 - - [14/Apr/2022 23:49:39] \"\u001b[37mPOST /get_prediction HTTP/1.1\u001b[0m\" 200 -\n",
      "127.0.0.1 - - [14/Apr/2022 23:49:39] \"\u001b[37mOPTIONS / HTTP/1.1\u001b[0m\" 200 -\n",
      "127.0.0.1 - - [14/Apr/2022 23:49:40] \"\u001b[37mPOST / HTTP/1.1\u001b[0m\" 200 -\n"
     ]
    },
    {
     "name": "stdout",
     "output_type": "stream",
     "text": [
      "{'business_code': 'CA02', 'cust_number': 140105686, 'name_customer': 'SING co', 'clear_date': '', 'buisness_year': 2019, 'doc_id': '2960572721', 'posting_date': '2019-08-12', 'due_in_date': '2019-08-23', 'baseline_create_date': '2019-08-13', 'cust_payment_terms': 'CA10', 'converted_usd': 20168.574999999997}\n",
      "Predict\n",
      "{'business_code': 'CA02', 'cust_number': 140105686, 'name_customer': 'SING co', 'clear_date': '', 'buisness_year': 2019, 'doc_id': '2960554732', 'posting_date': '2019-06-13', 'due_in_date': '2019-06-29', 'baseline_create_date': '2019-06-19', 'cust_payment_terms': 'CA10', 'converted_usd': 51298.41499999999}\n",
      "Predict\n"
     ]
    },
    {
     "name": "stderr",
     "output_type": "stream",
     "text": [
      "127.0.0.1 - - [14/Apr/2022 23:49:40] \"\u001b[37mPOST / HTTP/1.1\u001b[0m\" 200 -\n",
      "127.0.0.1 - - [14/Apr/2022 23:50:44] \"\u001b[37mOPTIONS /get_prediction HTTP/1.1\u001b[0m\" 200 -\n"
     ]
    },
    {
     "name": "stdout",
     "output_type": "stream",
     "text": [
      "[2960587707, 2960541173]\n",
      "Predict with doc_id\n"
     ]
    },
    {
     "name": "stderr",
     "output_type": "stream",
     "text": [
      "127.0.0.1 - - [14/Apr/2022 23:50:46] \"\u001b[37mPOST /get_prediction HTTP/1.1\u001b[0m\" 200 -\n",
      "127.0.0.1 - - [14/Apr/2022 23:50:46] \"\u001b[37mOPTIONS / HTTP/1.1\u001b[0m\" 200 -\n",
      "127.0.0.1 - - [14/Apr/2022 23:50:46] \"\u001b[37mPOST / HTTP/1.1\u001b[0m\" 200 -\n"
     ]
    },
    {
     "name": "stdout",
     "output_type": "stream",
     "text": [
      "{'business_code': 'CA02', 'cust_number': 100015818, 'name_customer': 'VENDO in', 'clear_date': '', 'buisness_year': 2019, 'doc_id': '2960587707', 'posting_date': '2019-10-20', 'due_in_date': '2019-11-01', 'baseline_create_date': '2019-10-22', 'cust_payment_terms': 'CA10', 'converted_usd': 42376.88}\n",
      "Predict\n",
      "{'business_code': 'CA02', 'cust_number': 140104440, 'name_customer': 'MASSY D foundation', 'clear_date': '', 'buisness_year': 2019, 'doc_id': '2960541173', 'posting_date': '2019-04-12', 'due_in_date': '2019-04-22', 'baseline_create_date': '2019-04-12', 'cust_payment_terms': 'CA10', 'converted_usd': 111353.52199999998}\n",
      "Predict\n"
     ]
    },
    {
     "name": "stderr",
     "output_type": "stream",
     "text": [
      "127.0.0.1 - - [14/Apr/2022 23:50:46] \"\u001b[37mPOST / HTTP/1.1\u001b[0m\" 200 -\n",
      "127.0.0.1 - - [14/Apr/2022 23:50:54] \"\u001b[37mOPTIONS /get_prediction HTTP/1.1\u001b[0m\" 200 -\n"
     ]
    },
    {
     "name": "stdout",
     "output_type": "stream",
     "text": [
      "[2960584310]\n",
      "Predict with doc_id\n"
     ]
    },
    {
     "name": "stderr",
     "output_type": "stream",
     "text": [
      "127.0.0.1 - - [14/Apr/2022 23:50:55] \"\u001b[37mPOST /get_prediction HTTP/1.1\u001b[0m\" 200 -\n",
      "127.0.0.1 - - [14/Apr/2022 23:50:55] \"\u001b[37mOPTIONS / HTTP/1.1\u001b[0m\" 200 -\n",
      "127.0.0.1 - - [14/Apr/2022 23:50:55] \"\u001b[37mPOST / HTTP/1.1\u001b[0m\" 200 -\n"
     ]
    },
    {
     "name": "stdout",
     "output_type": "stream",
     "text": [
      "{'business_code': 'CA02', 'cust_number': 140106372, 'name_customer': 'W LEE  foundation', 'clear_date': '', 'buisness_year': 2019, 'doc_id': '2960584310', 'posting_date': '2019-10-03', 'due_in_date': '2019-10-17', 'baseline_create_date': '2019-10-07', 'cust_payment_terms': 'CA10', 'converted_usd': 7464.058}\n",
      "Predict\n"
     ]
    },
    {
     "name": "stderr",
     "output_type": "stream",
     "text": [
      "127.0.0.1 - - [14/Apr/2022 23:51:16] \"\u001b[37mOPTIONS /get_prediction HTTP/1.1\u001b[0m\" 200 -\n"
     ]
    },
    {
     "name": "stdout",
     "output_type": "stream",
     "text": [
      "[1929375608, 1930637647]\n",
      "Predict with doc_id\n"
     ]
    },
    {
     "name": "stderr",
     "output_type": "stream",
     "text": [
      "127.0.0.1 - - [14/Apr/2022 23:51:17] \"\u001b[37mPOST /get_prediction HTTP/1.1\u001b[0m\" 200 -\n",
      "127.0.0.1 - - [14/Apr/2022 23:51:17] \"\u001b[37mOPTIONS / HTTP/1.1\u001b[0m\" 200 -\n",
      "127.0.0.1 - - [14/Apr/2022 23:51:17] \"\u001b[37mPOST / HTTP/1.1\u001b[0m\" 200 -\n"
     ]
    },
    {
     "name": "stdout",
     "output_type": "stream",
     "text": [
      "{'business_code': 'U001', 'cust_number': 200888842, 'name_customer': 'MCLANE', 'clear_date': '', 'buisness_year': 2019, 'doc_id': '1929375608', 'posting_date': '2019-05-27', 'due_in_date': '2019-06-11', 'baseline_create_date': '2019-05-27', 'cust_payment_terms': 'NAA8', 'converted_usd': 31116.42}\n",
      "Predict\n",
      "{'business_code': 'U001', 'cust_number': 100047382, 'name_customer': 'BEN E trust', 'clear_date': '', 'buisness_year': 2020, 'doc_id': '1930637647', 'posting_date': '2020-03-13', 'due_in_date': '2020-03-28', 'baseline_create_date': '2020-03-13', 'cust_payment_terms': 'NAA8', 'converted_usd': 17733.56}\n",
      "Predict\n"
     ]
    },
    {
     "name": "stderr",
     "output_type": "stream",
     "text": [
      "127.0.0.1 - - [14/Apr/2022 23:51:17] \"\u001b[37mPOST / HTTP/1.1\u001b[0m\" 200 -\n",
      "127.0.0.1 - - [14/Apr/2022 23:52:29] \"\u001b[37mOPTIONS /get_prediction HTTP/1.1\u001b[0m\" 200 -\n"
     ]
    },
    {
     "name": "stdout",
     "output_type": "stream",
     "text": [
      "[1930343354, 1930492689, 1929375608, 1930637647]\n",
      "Predict with doc_id\n"
     ]
    },
    {
     "name": "stderr",
     "output_type": "stream",
     "text": [
      "127.0.0.1 - - [14/Apr/2022 23:52:30] \"\u001b[37mPOST /get_prediction HTTP/1.1\u001b[0m\" 200 -\n",
      "127.0.0.1 - - [14/Apr/2022 23:52:30] \"\u001b[37mOPTIONS / HTTP/1.1\u001b[0m\" 200 -\n",
      "127.0.0.1 - - [14/Apr/2022 23:52:30] \"\u001b[37mPOST / HTTP/1.1\u001b[0m\" 200 -\n"
     ]
    },
    {
     "name": "stdout",
     "output_type": "stream",
     "text": [
      "{'business_code': 'U001', 'cust_number': 200769623, 'name_customer': 'PIO associates', 'clear_date': '', 'buisness_year': 2020, 'doc_id': '1930343354', 'posting_date': '2020-01-02', 'due_in_date': '2020-01-17', 'baseline_create_date': '2020-01-02', 'cust_payment_terms': 'NAH4', 'converted_usd': 485.06}\n",
      "Predict\n",
      "{'business_code': 'U001', 'cust_number': 200762301, 'name_customer': 'GODL corp', 'clear_date': '', 'buisness_year': 2020, 'doc_id': '1930492689', 'posting_date': '2020-02-10', 'due_in_date': '2020-04-15', 'baseline_create_date': '2020-02-10', 'cust_payment_terms': 'NAGD', 'converted_usd': 5231.91}\n",
      "Predict\n"
     ]
    },
    {
     "name": "stderr",
     "output_type": "stream",
     "text": [
      "127.0.0.1 - - [14/Apr/2022 23:52:30] \"\u001b[37mPOST / HTTP/1.1\u001b[0m\" 200 -\n",
      "127.0.0.1 - - [14/Apr/2022 23:52:31] \"\u001b[37mPOST / HTTP/1.1\u001b[0m\" 200 -\n"
     ]
    },
    {
     "name": "stdout",
     "output_type": "stream",
     "text": [
      "{'business_code': 'U001', 'cust_number': 200888842, 'name_customer': 'MCLANE', 'clear_date': '', 'buisness_year': 2019, 'doc_id': '1929375608', 'posting_date': '2019-05-27', 'due_in_date': '2019-06-11', 'baseline_create_date': '2019-05-27', 'cust_payment_terms': 'NAA8', 'converted_usd': 31116.42}\n",
      "Predict\n",
      "{'business_code': 'U001', 'cust_number': 100047382, 'name_customer': 'BEN E trust', 'clear_date': '', 'buisness_year': 2020, 'doc_id': '1930637647', 'posting_date': '2020-03-13', 'due_in_date': '2020-03-28', 'baseline_create_date': '2020-03-13', 'cust_payment_terms': 'NAA8', 'converted_usd': 17733.56}\n",
      "Predict\n"
     ]
    },
    {
     "name": "stderr",
     "output_type": "stream",
     "text": [
      "127.0.0.1 - - [14/Apr/2022 23:52:31] \"\u001b[37mPOST / HTTP/1.1\u001b[0m\" 200 -\n",
      "127.0.0.1 - - [14/Apr/2022 23:53:16] \"\u001b[37mOPTIONS /get_prediction HTTP/1.1\u001b[0m\" 200 -\n"
     ]
    },
    {
     "name": "stdout",
     "output_type": "stream",
     "text": [
      "[1930343354]\n",
      "Predict with doc_id\n"
     ]
    },
    {
     "name": "stderr",
     "output_type": "stream",
     "text": [
      "127.0.0.1 - - [14/Apr/2022 23:53:17] \"\u001b[37mPOST /get_prediction HTTP/1.1\u001b[0m\" 200 -\n",
      "127.0.0.1 - - [14/Apr/2022 23:53:17] \"\u001b[37mOPTIONS / HTTP/1.1\u001b[0m\" 200 -\n",
      "127.0.0.1 - - [14/Apr/2022 23:53:17] \"\u001b[37mPOST / HTTP/1.1\u001b[0m\" 200 -\n"
     ]
    },
    {
     "name": "stdout",
     "output_type": "stream",
     "text": [
      "{'business_code': 'U001', 'cust_number': 200769623, 'name_customer': 'PIO associates', 'clear_date': '', 'buisness_year': 2020, 'doc_id': '1930343354', 'posting_date': '2020-01-02', 'due_in_date': '2020-01-17', 'baseline_create_date': '2020-01-02', 'cust_payment_terms': 'NAH4', 'converted_usd': 485.06}\n",
      "Predict\n"
     ]
    },
    {
     "name": "stderr",
     "output_type": "stream",
     "text": [
      "127.0.0.1 - - [14/Apr/2022 23:53:25] \"\u001b[37mOPTIONS /get_prediction HTTP/1.1\u001b[0m\" 200 -\n"
     ]
    },
    {
     "name": "stdout",
     "output_type": "stream",
     "text": [
      "[1930492689]\n",
      "Predict with doc_id\n"
     ]
    },
    {
     "name": "stderr",
     "output_type": "stream",
     "text": [
      "127.0.0.1 - - [14/Apr/2022 23:53:26] \"\u001b[37mPOST /get_prediction HTTP/1.1\u001b[0m\" 200 -\n",
      "127.0.0.1 - - [14/Apr/2022 23:53:26] \"\u001b[37mOPTIONS / HTTP/1.1\u001b[0m\" 200 -\n",
      "127.0.0.1 - - [14/Apr/2022 23:53:26] \"\u001b[37mPOST / HTTP/1.1\u001b[0m\" 200 -\n"
     ]
    },
    {
     "name": "stdout",
     "output_type": "stream",
     "text": [
      "{'business_code': 'U001', 'cust_number': 200762301, 'name_customer': 'GODL corp', 'clear_date': '', 'buisness_year': 2020, 'doc_id': '1930492689', 'posting_date': '2020-02-10', 'due_in_date': '2020-04-15', 'baseline_create_date': '2020-02-10', 'cust_payment_terms': 'NAGD', 'converted_usd': 5231.91}\n",
      "Predict\n"
     ]
    },
    {
     "name": "stderr",
     "output_type": "stream",
     "text": [
      "127.0.0.1 - - [14/Apr/2022 23:53:52] \"\u001b[37mOPTIONS /get_prediction HTTP/1.1\u001b[0m\" 200 -\n"
     ]
    },
    {
     "name": "stdout",
     "output_type": "stream",
     "text": [
      "[1929375608]\n",
      "Predict with doc_id\n"
     ]
    },
    {
     "name": "stderr",
     "output_type": "stream",
     "text": [
      "127.0.0.1 - - [14/Apr/2022 23:53:53] \"\u001b[37mPOST /get_prediction HTTP/1.1\u001b[0m\" 200 -\n",
      "127.0.0.1 - - [14/Apr/2022 23:53:53] \"\u001b[37mOPTIONS / HTTP/1.1\u001b[0m\" 200 -\n",
      "127.0.0.1 - - [14/Apr/2022 23:53:53] \"\u001b[37mPOST / HTTP/1.1\u001b[0m\" 200 -\n"
     ]
    },
    {
     "name": "stdout",
     "output_type": "stream",
     "text": [
      "{'business_code': 'U001', 'cust_number': 200888842, 'name_customer': 'MCLANE', 'clear_date': '', 'buisness_year': 2019, 'doc_id': '1929375608', 'posting_date': '2019-05-27', 'due_in_date': '2019-06-11', 'baseline_create_date': '2019-05-27', 'cust_payment_terms': 'NAA8', 'converted_usd': 31116.42}\n",
      "Predict\n"
     ]
    },
    {
     "name": "stderr",
     "output_type": "stream",
     "text": [
      "127.0.0.1 - - [14/Apr/2022 23:54:00] \"\u001b[37mOPTIONS /get_prediction HTTP/1.1\u001b[0m\" 200 -\n"
     ]
    },
    {
     "name": "stdout",
     "output_type": "stream",
     "text": [
      "[1930637647]\n",
      "Predict with doc_id\n"
     ]
    },
    {
     "name": "stderr",
     "output_type": "stream",
     "text": [
      "127.0.0.1 - - [14/Apr/2022 23:54:01] \"\u001b[37mPOST /get_prediction HTTP/1.1\u001b[0m\" 200 -\n",
      "127.0.0.1 - - [14/Apr/2022 23:54:01] \"\u001b[37mOPTIONS / HTTP/1.1\u001b[0m\" 200 -\n",
      "127.0.0.1 - - [14/Apr/2022 23:54:01] \"\u001b[37mPOST / HTTP/1.1\u001b[0m\" 200 -\n"
     ]
    },
    {
     "name": "stdout",
     "output_type": "stream",
     "text": [
      "{'business_code': 'U001', 'cust_number': 100047382, 'name_customer': 'BEN E trust', 'clear_date': '', 'buisness_year': 2020, 'doc_id': '1930637647', 'posting_date': '2020-03-13', 'due_in_date': '2020-03-28', 'baseline_create_date': '2020-03-13', 'cust_payment_terms': 'NAA8', 'converted_usd': 17733.56}\n",
      "Predict\n"
     ]
    },
    {
     "name": "stderr",
     "output_type": "stream",
     "text": [
      "127.0.0.1 - - [14/Apr/2022 23:59:50] \"\u001b[37mOPTIONS /get_prediction HTTP/1.1\u001b[0m\" 200 -\n"
     ]
    },
    {
     "name": "stdout",
     "output_type": "stream",
     "text": [
      "[1930637647]\n",
      "Predict with doc_id\n"
     ]
    },
    {
     "name": "stderr",
     "output_type": "stream",
     "text": [
      "127.0.0.1 - - [14/Apr/2022 23:59:51] \"\u001b[37mPOST /get_prediction HTTP/1.1\u001b[0m\" 200 -\n"
     ]
    }
   ],
   "source": [
    "from flask import Flask, redirect, url_for, render_template, request,jsonify, make_response\n",
    "import New_Bucket\n",
    "import pandas as pd\n",
    "from flask_cors import CORS\n",
    "\n",
    "data = pd.DataFrame()\n",
    "app = Flask(__name__)\n",
    "CORS(app)\n",
    "\n",
    "@app.route(\"/\",methods=[\"POST\", \"GET\"])\n",
    "def home():\n",
    "\n",
    "    if request.method == \"POST\":\n",
    "        print(request.json)\n",
    "        business_code = request.json[\"business_code\"]\n",
    "        cust_number = request.json['cust_number']\n",
    "        name_customer = request.json['name_customer']\n",
    "        clear_date = request.json['clear_date']\n",
    "        buisness_year = int(request.json['buisness_year'])\n",
    "        doc_id = int(request.json['doc_id'])\n",
    "        posting_date = request.json['posting_date']\n",
    "        due_in_date = request.json['due_in_date']\n",
    "        baseline_create_date = request.json['baseline_create_date']\n",
    "        cust_payment_terms = request.json['cust_payment_terms']\n",
    "        converted_usd = float(request.json['converted_usd'])\n",
    "\n",
    "        data['business_code'] = [business_code]\n",
    "        data['cust_number'] = [cust_number]\n",
    "        data['name_customer'] = [name_customer]\n",
    "        data['clear_date'] = [clear_date]\n",
    "        data['buisness_year'] = [buisness_year]\n",
    "        data['doc_id'] = [doc_id]\n",
    "        data['posting_date'] =[posting_date]\n",
    "        data['due_in_date'] = [due_in_date]\n",
    "        data['baseline_create_date'] = [baseline_create_date]\n",
    "        data['cust_payment_terms'] = [cust_payment_terms]\n",
    "        data['converted_usd'] = [converted_usd]\n",
    "\n",
    "        response = make_response(jsonify(New_Bucket.predict(data)),200)\n",
    "        response.headers[\"Content-Type\"] = \"application/json\"\n",
    "        return response\n",
    "    else:\n",
    "        return render_template(\"index1.html\")\n",
    "\n",
    "@app.route(\"/get_prediction\", methods=[\"GET\",'POST'])\n",
    "def get_prediction():\n",
    "    if request.method == \"POST\":\n",
    "        doc_id_list = list(request.json[\"data\"])\n",
    "        print(doc_id_list)\n",
    "        response = make_response(jsonify(New_Bucket.doc_id_bucket(doc_id_list)),200)\n",
    "        response.headers[\"Access-Control-Allow-Origin\"]=\"*\"\n",
    "        response.headers[\"Content-Type\"] = \"application/json\"\n",
    "        return response\n",
    "    else:\n",
    "        return render_template(\"index2.html\")\n",
    "\n",
    "\n",
    "@app.route(\"/all\", methods=[\"GET\",'POST'])\n",
    "def alll():\n",
    "    if request.method == \"POST\":\n",
    "        response = make_response(jsonify(New_Bucket.alll()),200)\n",
    "        response.headers[\"Content-Type\"] = \"application/json\"\n",
    "        return response\n",
    "    else:\n",
    "        return render_template(\"index3.html\")\n",
    "\n",
    "@app.route(\"/login\", methods=[\"POST\", \"GET\"])\n",
    "def login():\n",
    "    if request.method == \"POST\":\n",
    "        user = request.form[\"nm\"]\n",
    "        return redirect(url_for(\"user\", usr=user))\n",
    "    else:\n",
    "        return render_template(\"login.html\")\n",
    "\n",
    "@app.route(\"/<usr>\")\n",
    "def user(usr):\n",
    "    return f\"<h1>{usr}</h1>\"\n",
    "\n",
    "if __name__ == \"__main__\":\n",
    "    app.run()"
   ]
  },
  {
   "cell_type": "code",
   "execution_count": null,
   "id": "287fe5bc",
   "metadata": {},
   "outputs": [],
   "source": [
    "!pip install flask_cors"
   ]
  },
  {
   "cell_type": "code",
   "execution_count": 3,
   "id": "00d885e9",
   "metadata": {},
   "outputs": [
    {
     "name": "stdout",
     "output_type": "stream",
     "text": [
      "python: 3.8.8\n",
      "flask: 1.1.2\n"
     ]
    }
   ],
   "source": [
    "import flask\n",
    "from platform import python_version\n",
    "\n",
    "print(\"python:\",python_version())\n",
    "print(\"flask:\",flask.__version__)"
   ]
  },
  {
   "cell_type": "code",
   "execution_count": null,
   "id": "08b908de",
   "metadata": {
    "pycharm": {
     "name": "#%%\n"
    }
   },
   "outputs": [],
   "source": []
  }
 ],
 "metadata": {
  "kernelspec": {
   "display_name": "Python 3",
   "language": "python",
   "name": "python3"
  },
  "language_info": {
   "codemirror_mode": {
    "name": "ipython",
    "version": 3
   },
   "file_extension": ".py",
   "mimetype": "text/x-python",
   "name": "python",
   "nbconvert_exporter": "python",
   "pygments_lexer": "ipython3",
   "version": "3.8.8"
  }
 },
 "nbformat": 4,
 "nbformat_minor": 5
}
